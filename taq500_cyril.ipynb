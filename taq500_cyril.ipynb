{
 "cells": [
  {
   "cell_type": "code",
   "execution_count": 33,
   "outputs": [],
   "source": [
    "from tick.hawkes import HawkesCumulantMatching\n",
    "from tick.plot import plot_hawkes_kernel_norms\n",
    "from tick.plot import plot_hawkes_kernels\n",
    "\n",
    "import matplotlib.pyplot as plt\n",
    "import pandas as pd\n",
    "import numpy as np\n",
    "from numpy import linalg as LA\n",
    "\n",
    "import copy\n",
    "import os"
   ],
   "metadata": {
    "collapsed": false,
    "ExecuteTime": {
     "end_time": "2023-10-04T11:18:09.169772594Z",
     "start_time": "2023-10-04T11:18:09.124207144Z"
    }
   },
   "id": "bb2e263796ea1a46"
  },
  {
   "cell_type": "code",
   "execution_count": 34,
   "outputs": [],
   "source": [
    "day = '20191115'\n",
    "filelist = []\n",
    "for letter in alphabet:\n",
    "    path = (\"/media/demenzechtbaer/b767c748-cda2-4ef0-8e63-2f4d6961b031/equity_taq/2019/\" + day + \"/\"  + letter + \"/\")\n",
    "    filelist.append(os.listdir(path))\n",
    "filelist = [item for row in filelist for item in row]\n",
    "filelist.sort()"
   ],
   "metadata": {
    "collapsed": false
   },
   "id": "4bdf9ab1167b39a3"
  },
  {
   "cell_type": "code",
   "execution_count": 38,
   "outputs": [],
   "source": [
    "tickerlist =[sub[: -7].lower() for sub in filelist]"
   ],
   "metadata": {
    "collapsed": false,
    "ExecuteTime": {
     "end_time": "2023-10-04T11:21:28.226711685Z",
     "start_time": "2023-10-04T11:21:28.187483496Z"
    }
   },
   "id": "8e11fe3575d89d2e"
  },
  {
   "cell_type": "code",
   "execution_count": 44,
   "outputs": [],
   "source": [
    "all_timestamps = []\n",
    "for ticker in tickerlist:\n",
    "    q = np.load('/media/demenzechtbaer/War1/TAQ500_MAXI500_SPLIT/' + day + '_' + ticker + '_q_timestamps.npy', allow_pickle=True)\n",
    "    tnb = np.load('/media/demenzechtbaer/War1/TAQ500_MAXI500_SPLIT/' + day + '_' + ticker + '_tnb_timestamps.npy', allow_pickle=True)\n",
    "    t = np.load('/media/demenzechtbaer/War1/TAQ500_MAXI500_SPLIT/' + day + '_' + ticker + '_t_timestamps.npy', allow_pickle=True)\n",
    "    timestamps = np.sort(np.concatenate((t[0], tnb[0], q[0])))\n",
    "    all_timestamps.append(timestamps)"
   ],
   "metadata": {
    "collapsed": false,
    "ExecuteTime": {
     "end_time": "2023-10-04T11:26:49.743484031Z",
     "start_time": "2023-10-04T11:26:46.899282450Z"
    }
   },
   "id": "5fe5566f9bfb7948"
  },
  {
   "cell_type": "code",
   "execution_count": null,
   "outputs": [],
   "source": [
    "integration_support = .05\n",
    "\n",
    "nphc = HawkesCumulantMatching(integration_support, solver='adagrad', penalty='elasticnet', cs_ratio=.15, tol=1e-8, step=0.01)\n",
    "%timeit nphc.fit(all_timestamps)"
   ],
   "metadata": {
    "collapsed": false
   },
   "id": "7d9eb347681374e8"
  }
 ],
 "metadata": {
  "kernelspec": {
   "display_name": "Python 3",
   "language": "python",
   "name": "python3"
  },
  "language_info": {
   "codemirror_mode": {
    "name": "ipython",
    "version": 2
   },
   "file_extension": ".py",
   "mimetype": "text/x-python",
   "name": "python",
   "nbconvert_exporter": "python",
   "pygments_lexer": "ipython2",
   "version": "2.7.6"
  }
 },
 "nbformat": 4,
 "nbformat_minor": 5
}
